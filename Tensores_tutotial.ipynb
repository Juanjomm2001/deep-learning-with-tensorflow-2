{
 "cells": [
  {
   "cell_type": "markdown",
   "id": "4b78f779",
   "metadata": {},
   "source": [
    "# **TensorFlow: Tensors y Variables**\n",
    "Este notebook cubre los conceptos fundamentales de TensorFlow relacionados con Tensores y Variables. Vamos a ver desde lo básico hasta operaciones avanzadas como tensores dispersos, operaciones algebraicas y más."
   ]
  },
  {
   "cell_type": "code",
   "execution_count": 1,
   "id": "31bf7c82",
   "metadata": {},
   "outputs": [],
   "source": [
    "import tensorflow as tf\n",
    "import numpy as np"
   ]
  },
  {
   "cell_type": "markdown",
   "id": "c142a1d2",
   "metadata": {},
   "source": [
    "## **1️⃣ Básicos de los Tensores**\n",
    "Un **tensor** es la estructura de datos principal en TensorFlow. Se pueden considerar como matrices multidimensionales. ¿Qué es un tensor?\n",
    "Un tensor es la estructura de datos fundamental en TensorFlow. Es similar a los arreglos de NumPy o a las matrices en matemáticas, pero puede tener cualquier cantidad de dimensiones."
   ]
  },
  {
   "cell_type": "code",
   "execution_count": 5,
   "id": "c183c86c",
   "metadata": {},
   "outputs": [
    {
     "name": "stdout",
     "output_type": "stream",
     "text": [
      "tf.Tensor(5, shape=(), dtype=int32) tf.Tensor([1 2 3], shape=(3,), dtype=int32) tf.Tensor(\n",
      "[[1 2]\n",
      " [3 4]], shape=(2, 2), dtype=int32) tf.Tensor(\n",
      "[[[1 2]\n",
      "  [3 4]]\n",
      "\n",
      " [[5 6]\n",
      "  [7 8]]], shape=(2, 2, 2), dtype=int32)\n"
     ]
    }
   ],
   "source": [
    "# Crear tensores\n",
    "tensor_escalar = tf.constant(5)  # Escalar solo 1 num \n",
    "tensor_vector = tf.constant([1, 2, 3])  # Vector lista de num\n",
    "tensor_matriz = tf.constant([[1, 2], [3, 4]])  # Matriz \n",
    "tensor_3D = tf.constant([[[1, 2], [3, 4]], [[5, 6], [7, 8]]])  # Tensor 3D matrices en diferentes dimensiones\n",
    "print(tensor_escalar, tensor_vector, tensor_matriz, tensor_3D)"
   ]
  },
  {
   "cell_type": "markdown",
   "id": "3c55a4c8",
   "metadata": {},
   "source": [
    "## **2️⃣ Inicialización y Conversión de Tensores**\n",
    "Podemos inicializar tensores de varias maneras y convertir entre tipos de datos."
   ]
  },
  {
   "cell_type": "code",
   "execution_count": 8,
   "id": "c22e023e",
   "metadata": {},
   "outputs": [
    {
     "name": "stdout",
     "output_type": "stream",
     "text": [
      "tf.Tensor(\n",
      "[[0. 0. 0.]\n",
      " [0. 0. 0.]\n",
      " [0. 0. 0.]], shape=(3, 3), dtype=float32) ////////// tf.Tensor(\n",
      "[[1. 1.]\n",
      " [1. 1.]], shape=(2, 2), dtype=float32) ////////// tf.Tensor(\n",
      "[[3.2265043 6.738167  1.3875985]\n",
      " [4.373288  8.947686  9.782473 ]\n",
      " [8.341833  3.2469833 7.26876  ]], shape=(3, 3), dtype=float32)\n"
     ]
    }
   ],
   "source": [
    "# Tensores inicializados\n",
    "tensor_ceros = tf.zeros([3,3])  # Matriz 3x3 de ceros\n",
    "tensor_unos = tf.ones([2,2])  # Matriz 2x2 de unos\n",
    "tensor_random = tf.random.uniform([3,3], minval=0, maxval=10)  # Matriz aleatoria\n",
    "print(tensor_ceros,\"//////////\",tensor_unos,\"//////////\", tensor_random)"
   ]
  },
  {
   "cell_type": "code",
   "execution_count": 13,
   "id": "1871d941",
   "metadata": {},
   "outputs": [
    {
     "name": "stdout",
     "output_type": "stream",
     "text": [
      "tf.Tensor(3, shape=(), dtype=int32)\n"
     ]
    }
   ],
   "source": [
    "# Conversión de tipos\n",
    "tensor_float = tf.constant(3.1416, dtype=tf.float32)\n",
    "tensor_int = tf.cast(tensor_float, dtype=tf.int32)\n",
    "print(tensor_int)"
   ]
  },
  {
   "cell_type": "markdown",
   "id": "feab4f0c",
   "metadata": {},
   "source": [
    "## **3️⃣ Indexación en Tensores, acceder a valores dentro del tensor**\n",
    "Podemos acceder a elementos específicos dentro de un tensor como en NumPy."
   ]
  },
  {
   "cell_type": "code",
   "execution_count": 19,
   "id": "82d92f6f",
   "metadata": {},
   "outputs": [
    {
     "name": "stdout",
     "output_type": "stream",
     "text": [
      "30\n"
     ]
    }
   ],
   "source": [
    "tensor = tf.constant([[10, 20, 30], [40, 50, 60]])\n",
    "print(tensor[0, 2].numpy())  # Acceder al segundo elemento de la primera fila\n",
    "  #         fila, col"
   ]
  },
  {
   "cell_type": "markdown",
   "id": "4b8f2321",
   "metadata": {},
   "source": [
    "## **4️⃣ Operaciones Matemáticas en Tensores**\n",
    "Podemos realizar operaciones matemáticas como suma, resta, multiplicación, etc."
   ]
  },
  {
   "cell_type": "code",
   "execution_count": 21,
   "id": "78a1da66",
   "metadata": {},
   "outputs": [
    {
     "name": "stdout",
     "output_type": "stream",
     "text": [
      "tf.Tensor(\n",
      "[[ 6  8]\n",
      " [10 12]], shape=(2, 2), dtype=int32)\n",
      "tf.Tensor(\n",
      "[[ 5 12]\n",
      " [21 32]], shape=(2, 2), dtype=int32)\n"
     ]
    },
    {
     "data": {
      "text/plain": [
       "'\\ntf.multiply(a, b): Multiplicación elemento a elemento.\\ntf.divide(a, b): División.\\n'"
      ]
     },
     "execution_count": 21,
     "metadata": {},
     "output_type": "execute_result"
    }
   ],
   "source": [
    "a = tf.constant([[1, 2], [3, 4]])\n",
    "b = tf.constant([[5, 6], [7, 8]])\n",
    "print(tf.add(a, b))  # Suma de matrices\n",
    "print(tf.multiply(a, b))  # Multiplicación elemento a elemento\n",
    "\"\"\"\n",
    "tf.multiply(a, b): Multiplicación elemento a elemento.\n",
    "tf.divide(a, b): División.\n",
    "\"\"\""
   ]
  },
  {
   "cell_type": "markdown",
   "id": "c5627e70",
   "metadata": {},
   "source": [
    "## **5️⃣ Operaciones de Álgebra Lineal**\n",
    "TensorFlow ofrece funciones para operaciones algebraicas avanzadas."
   ]
  },
  {
   "cell_type": "code",
   "execution_count": 23,
   "id": "604b944d",
   "metadata": {},
   "outputs": [
    {
     "name": "stdout",
     "output_type": "stream",
     "text": [
      "tf.Tensor(\n",
      "[[19 22]\n",
      " [43 50]], shape=(2, 2), dtype=int32)\n"
     ]
    },
    {
     "data": {
      "text/plain": [
       "'\\nDeterminante: tf.linalg.det(A)\\nInversa de una matriz: tf.linalg.inv(A)\\n'"
      ]
     },
     "execution_count": 23,
     "metadata": {},
     "output_type": "execute_result"
    }
   ],
   "source": [
    "# Producto matricial\n",
    "matriz1 = tf.constant([[1, 2], [3, 4]])\n",
    "matriz2 = tf.constant([[5, 6], [7, 8]])\n",
    "producto = tf.matmul(matriz1, matriz2)  # Multiplicación matricial  \n",
    "print(producto)\n",
    "\n",
    "\"\"\"\n",
    "Determinante: tf.linalg.det(A)\n",
    "Inversa de una matriz: tf.linalg.inv(A)\n",
    "\"\"\""
   ]
  },
  {
   "cell_type": "markdown",
   "id": "98bc9aab",
   "metadata": {},
   "source": [
    "## **6️⃣ Funciones Comunes de TensorFlow**\n",
    "Algunas funciones útiles incluyen reducción de dimensiones y estadísticas básicas."
   ]
  },
  {
   "cell_type": "code",
   "execution_count": 26,
   "id": "c415219d",
   "metadata": {},
   "outputs": [
    {
     "name": "stdout",
     "output_type": "stream",
     "text": [
      "tf.Tensor(15, shape=(), dtype=int32)\n",
      "tf.Tensor(3, shape=(), dtype=int32)\n",
      "tf.Tensor(5, shape=(), dtype=int32)\n"
     ]
    }
   ],
   "source": [
    "tensor = tf.constant([1, 2, 3, 4, 5])\n",
    "print(tf.reduce_sum(tensor))  # Suma total\n",
    "print(tf.reduce_mean(tensor))  # Media\n",
    "print(tf.reduce_max(tensor))  # Maximo"
   ]
  },
  {
   "cell_type": "markdown",
   "id": "ab9a41fe",
   "metadata": {},
   "source": [
    "## **7️⃣ Ragged Tensors (Tensores Irregulares)**\n",
    "TensorFlow permite crear tensores de longitudes variables en cada fila."
   ]
  },
  {
   "cell_type": "code",
   "execution_count": 36,
   "id": "16575abf",
   "metadata": {},
   "outputs": [
    {
     "name": "stdout",
     "output_type": "stream",
     "text": [
      "Ragged Tensor:\n",
      "<tf.RaggedTensor [[1, 2, 3], [4, 5], [6]]>\n",
      "\n",
      "Primer elemento de la primera fila: 1\n",
      "Segunda fila completa: [4 5]\n",
      "\n",
      "Tensor normalizado con ceros:\n",
      "[[1 2 3]\n",
      " [4 5 0]\n",
      " [6 0 0]]\n",
      "\n",
      "Tamaño de cada fila:\n",
      "[3 2 1]\n",
      "\n",
      "Ragged Tensor concatenado:\n",
      "<tf.RaggedTensor [[1, 2, 3, 10, 20], [4, 5, 30], [6, 40, 50, 60]]>\n"
     ]
    }
   ],
   "source": [
    "import tensorflow as tf\n",
    "\n",
    "# Crear un Ragged Tensor manualmente\n",
    "ragged = tf.ragged.constant([[1, 2, 3], [4, 5], [6]])\n",
    "\n",
    "print(\"Ragged Tensor:\")\n",
    "print(ragged)\n",
    "\n",
    "# Acceder a elementos específicos\n",
    "print(\"\\nPrimer elemento de la primera fila:\", ragged[0, 0].numpy()) #es para pilla rel valor el numpy\n",
    "print(\"Segunda fila completa:\", ragged[1].numpy()) \n",
    "\n",
    "# Convertir un Ragged Tensor a un Tensor normal (rellenando con ceros)\n",
    "padded_tensor = ragged.to_tensor(default_value=0)\n",
    "print(\"\\nTensor normalizado con ceros:\")\n",
    "print(padded_tensor.numpy())\n",
    "\n",
    "# Obtener la forma dinámica de cada fila\n",
    "print(\"\\nTamaño de cada fila:\")\n",
    "print(ragged.row_lengths().numpy())  \n",
    "\n",
    "# Concatenar Ragged Tensors\n",
    "ragged2 = tf.ragged.constant([[10, 20], [30], [40, 50, 60]])\n",
    "concat_ragged = tf.concat([ragged, ragged2], axis=1)\n",
    "print(\"\\nRagged Tensor concatenado:\")\n",
    "print(concat_ragged)\n"
   ]
  },
  {
   "cell_type": "markdown",
   "id": "e53a5829",
   "metadata": {},
   "source": [
    "## **8️⃣ Sparse Tensors (Tensores Dispersos)**\n",
    "Se usan para representar datos dispersos de forma eficiente. Son una representación eficiente de matrices dispersas, es decir, aquellas que tienen muchos ceros. En lugar de almacenar todos los ceros, solo guardan los valores no nulos y sus posiciones."
   ]
  },
  {
   "cell_type": "code",
   "execution_count": 37,
   "id": "c382649e",
   "metadata": {},
   "outputs": [
    {
     "name": "stdout",
     "output_type": "stream",
     "text": [
      "SparseTensor(indices=tf.Tensor(\n",
      "[[0 0]\n",
      " [1 2]\n",
      " [2 1]], shape=(3, 2), dtype=int64), values=tf.Tensor([1 2 3], shape=(3,), dtype=int32), dense_shape=tf.Tensor([3 3], shape=(2,), dtype=int64))\n",
      "\n",
      "Sparse Tensor:\n",
      "SparseTensor(indices=tf.Tensor(\n",
      "[[0 0]\n",
      " [1 2]\n",
      " [2 1]], shape=(3, 2), dtype=int64), values=tf.Tensor([1 2 3], shape=(3,), dtype=int32), dense_shape=tf.Tensor([3 3], shape=(2,), dtype=int64))\n",
      "\n",
      "Sparse Tensor convertido a denso:\n",
      "[[1 0 0]\n",
      " [0 0 2]\n",
      " [0 3 0]]\n",
      "\n",
      "Suma de Sparse Tensors:\n",
      "[[1 0 5]\n",
      " [0 0 2]\n",
      " [6 3 0]]\n"
     ]
    }
   ],
   "source": [
    "sparse_tensor = tf.sparse.from_dense([[1, 0, 0], [0, 0, 2], [0, 3, 0]])\n",
    "print(sparse_tensor) #muestras las coordenadas donde hay otra cosa que no sea 0 y al lado\n",
    "#los valores de eso que no es 0 en values=, acompanyado del tamanyop de el tnsor\n",
    "\n",
    "# Crear un Sparse Tensor manualmente\n",
    "sparse_tensor = tf.sparse.SparseTensor(\n",
    "    indices=[[0, 0], [1, 2], [2, 1]],  # Posiciones de los valores diferentes de cero\n",
    "    values=[1, 2, 3],  # Valores en esas posiciones\n",
    "    dense_shape=[3, 3]  # Tamaño total del tensor\n",
    ")\n",
    "\n",
    "print(\"\\nSparse Tensor:\")\n",
    "print(sparse_tensor)\n",
    "\n",
    "# Convertir a un tensor denso\n",
    "dense_tensor = tf.sparse.to_dense(sparse_tensor)\n",
    "print(\"\\nSparse Tensor convertido a denso:\")\n",
    "print(dense_tensor.numpy())\n",
    "\n",
    "# Realizar operaciones con Sparse Tensors\n",
    "sparse_tensor_2 = tf.sparse.SparseTensor(\n",
    "    indices=[[0, 2], [2, 0]],\n",
    "    values=[5, 6],\n",
    "    dense_shape=[3, 3]\n",
    ")\n",
    "\n",
    "sum_sparse = tf.sparse.add(sparse_tensor, sparse_tensor_2)\n",
    "print(\"\\nSuma de Sparse Tensors:\")\n",
    "print(tf.sparse.to_dense(sum_sparse).numpy())\n"
   ]
  },
  {
   "cell_type": "markdown",
   "id": "11a7c3b5",
   "metadata": {},
   "source": [
    "## **9️⃣ String Tensors (Tensores de Texto)**\n",
    "TensorFlow permite trabajar con texto usando tensores de tipo `string`."
   ]
  },
  {
   "cell_type": "code",
   "execution_count": 39,
   "id": "931111ba",
   "metadata": {},
   "outputs": [
    {
     "name": "stdout",
     "output_type": "stream",
     "text": [
      "\n",
      "String Tensor:\n",
      "[b'Hola' b'Mundo' b'TensorFlow']\n",
      "\n",
      "Texto en mayúsculas: [b'HOLA' b'MUNDO' b'TENSORFLOW']\n",
      "Texto en minúsculas: [b'hola' b'mundo' b'tensorflow']\n",
      "\n",
      "String concatenado: b'Hola Mundo!'\n",
      "\n",
      "División de texto en palabras: [b'Esto' b'es' b'TensorFlow']\n",
      "\n",
      "Cantidad de caracteres en cada palabra: [ 4  5 10]\n"
     ]
    }
   ],
   "source": [
    "# Crear un String Tensor\n",
    "string_tensor = tf.constant([\"Hola\", \"Mundo\", \"TensorFlow\"])\n",
    "\n",
    "print(\"\\nString Tensor:\")\n",
    "print(string_tensor.numpy())\n",
    "\n",
    "# Convertir a mayúsculas y minúsculas\n",
    "upper_tensor = tf.strings.upper(string_tensor)\n",
    "lower_tensor = tf.strings.lower(string_tensor)\n",
    "\n",
    "print(\"\\nTexto en mayúsculas:\", upper_tensor.numpy())\n",
    "print(\"Texto en minúsculas:\", lower_tensor.numpy())\n",
    "\n",
    "# Concatenación de String Tensors\n",
    "concat_string = tf.strings.join([\"Hola\", \" \", \"Mundo!\"])\n",
    "print(\"\\nString concatenado:\", concat_string.numpy())\n",
    "\n",
    "# División de texto\n",
    "split_text = tf.strings.split(tf.constant(\"Esto es TensorFlow\"))\n",
    "print(\"\\nDivisión de texto en palabras:\", split_text.numpy())\n",
    "\n",
    "# Contar la cantidad de caracteres en cada palabra\n",
    "char_count = tf.strings.length(string_tensor)\n",
    "print(\"\\nCantidad de caracteres en cada palabra:\", char_count.numpy())\n"
   ]
  },
  {
   "cell_type": "markdown",
   "id": "a9698e2e",
   "metadata": {},
   "source": [
    "## **🔟 Variables en TensorFlow**\n",
    "Las variables son tensores que pueden ser modificados durante el entrenamiento de un modelo."
   ]
  },
  {
   "cell_type": "code",
   "execution_count": 41,
   "id": "91559861",
   "metadata": {},
   "outputs": [
    {
     "name": "stdout",
     "output_type": "stream",
     "text": [
      "\n",
      "Variable inicial: [1 2 3]\n",
      "Variable modificada: [4 5 6]\n",
      "Variable después de suma: [5 6 7]\n",
      "Variable después de resta: [3 4 5]\n",
      "\n",
      "Resultado de la función y = w*x + b: 16.0\n"
     ]
    }
   ],
   "source": [
    "# Crear una Variable en TensorFlow\n",
    "variable = tf.Variable([1, 2, 3])\n",
    "\n",
    "print(\"\\nVariable inicial:\", variable.numpy())\n",
    "\n",
    "# Modificar la variable\n",
    "variable.assign([4, 5, 6])\n",
    "print(\"Variable modificada:\", variable.numpy())\n",
    "\n",
    "# Incrementar valores\n",
    "variable.assign_add([1, 1, 1])\n",
    "print(\"Variable después de suma:\", variable.numpy())\n",
    "\n",
    "# Decrementar valores\n",
    "variable.assign_sub([2, 2, 2])\n",
    "print(\"Variable después de resta:\", variable.numpy())\n",
    "\n",
    "# Variables en operaciones matemáticas\n",
    "w = tf.Variable(3.0)\n",
    "b = tf.Variable(1.0)\n",
    "\n",
    "# Computar salida de una función y = w*x + b\n",
    "x = tf.constant(5.0)\n",
    "y = w * x + b\n",
    "print(\"\\nResultado de la función y = w*x + b:\", y.numpy())\n"
   ]
  },
  {
   "cell_type": "markdown",
   "id": "7f9ebca5",
   "metadata": {},
   "source": [
    "### **🎯 Conclusión**\n",
    "En este notebook hemos explorado los conceptos fundamentales de TensorFlow relacionados con los tensores y variables. Ahora tienes una base sólida para avanzar en el desarrollo de modelos de Machine Learning y Deep Learning. 🚀"
   ]
  }
 ],
 "metadata": {
  "kernelspec": {
   "display_name": "Python 3",
   "language": "python",
   "name": "python3"
  },
  "language_info": {
   "codemirror_mode": {
    "name": "ipython",
    "version": 3
   },
   "file_extension": ".py",
   "mimetype": "text/x-python",
   "name": "python",
   "nbconvert_exporter": "python",
   "pygments_lexer": "ipython3",
   "version": "3.11.9"
  }
 },
 "nbformat": 4,
 "nbformat_minor": 5
}
